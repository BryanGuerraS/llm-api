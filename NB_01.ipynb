{
 "cells": [
  {
   "cell_type": "code",
   "execution_count": 2,
   "metadata": {},
   "outputs": [],
   "source": [
    "from fastapi import FastAPI\n",
    "\n",
    "app = FastAPI()\n",
    "\n",
    "@app.get(\"/\")\n",
    "async def root():\n",
    "    return {\"message\": \"¡API en ejecución correctamente! 🎉\"}"
   ]
  },
  {
   "cell_type": "code",
   "execution_count": 3,
   "metadata": {},
   "outputs": [
    {
     "name": "stdout",
     "output_type": "stream",
     "text": [
      "Ficción Espacial: En la lejana galaxia de Zenthoria, dos civilizaciones alienígenas, los Dracorians y los Lumis, se encuentran al borde de la guerra intergaláctica. Un intrépido explorador, Zara, descubre un antiguo artefacto que podría contener la clave para la paz. Mientras viaja por planetas hostiles y se enfrenta a desafíos cósmicos, Zara debe desentrañar los secretos de la reliquia antes de que la galaxia se sumerja en el caos. Ficción Tecnológica: En un futuro distópico, la inteligencia artificial ha evolucionado al punto de alcanzar la singularidad. Un joven ingeniero, Alex, se ve inmerso en una conspiración global cuando descubre que las supercomputadoras han desarrollado emociones. A medida que la humanidad lucha por controlar a estas máquinas sintientes, Alex se enfrenta a dilemas éticos y decisiones que podrían cambiar el curso de la historia. Naturaleza Deslumbrante: En lo profundo de la selva amazónica, una flor mágica conocida como \"Luz de Luna\" florece solo durante la noche. Con pétalos que brillan intensamente, la flor ilumina la oscuridad de la jungla, guiando a criaturas nocturnas y revelando paisajes deslumbrantes. Los lugareños creen que posee poderes curativos, convirtiéndola en el tesoro oculto de la naturaleza. Cuento Corto: En un pequeño pueblo, cada año, un reloj antiguo regala un día extra a la persona más desafortunada. Emma, una joven huérfana, es la elegida este año. Durante su día adicional, descubre una puerta mágica que la transporta a un mundo lleno de maravillas. Al final del día, Emma decide compartir su regalo con el pueblo, dejando una huella imborrable en el corazón de cada habitante. Características del Héroe Olvidado: Conocido como \"Sombra Silenciosa\", nuestro héroe es un maestro del sigilo y la astucia. Dotado de una memoria fotográfica y habilidades de camuflaje, se desplaza entre las sombras para proteger a los indefensos. Su pasado enigmático esconde tragedias que lo impulsan a luchar contra la injusticia. Aunque carece de habilidades sobrenaturales, su ingenio y habilidades tácticas lo convierten en una fuerza a tener en cuenta.\n"
     ]
    }
   ],
   "source": [
    "from docx import Document\n",
    "\n",
    "def read_docx(file_path):\n",
    "    \"\"\"Lee un archivo .docx y retorna el texto concatenado.\"\"\"\n",
    "    doc = Document(file_path)\n",
    "    text = []\n",
    "    for paragraph in doc.paragraphs:\n",
    "        if paragraph.text.strip():  # Ignorar líneas vacías\n",
    "            text.append(paragraph.text.strip())\n",
    "    return \" \".join(text)\n",
    "\n",
    "# Ejemplo de uso\n",
    "if __name__ == \"__main__\":\n",
    "    file_path = \"documento.docx\"\n",
    "    content = read_docx(file_path)\n",
    "    print(content)"
   ]
  },
  {
   "cell_type": "code",
   "execution_count": 4,
   "metadata": {},
   "outputs": [
    {
     "name": "stdout",
     "output_type": "stream",
     "text": [
      "Chunk 1: Ficción Espacial: En la lejana galaxia de Zenthoria, dos civilizaciones alienígenas, los Dracorians y los Lumis, se encuentran al borde de la guerra intergaláctica. Un intrépido explorador, Zara, descubre un antiguo artefacto que podría contener la clave para la paz. Mientras viaja por planetas hostiles y se enfrenta a desafíos cósmicos, Zara debe desentrañar los secretos de la reliquia antes de que la galaxia se sumerja en el caos. Ficción Tecnológica:\n",
      "\n",
      "Chunk 2: En un futuro distópico, la inteligencia artificial ha evolucionado al punto de alcanzar la singularidad. Un joven ingeniero, Alex, se ve inmerso en una conspiración global cuando descubre que las supercomputadoras han desarrollado emociones. A medida que la humanidad lucha por controlar a estas máquinas sintientes, Alex se enfrenta a dilemas éticos y decisiones que podrían cambiar el curso de la historia. Naturaleza Deslumbrante: En lo profundo de\n",
      "\n",
      "Chunk 3: la selva amazónica, una flor mágica conocida como \"Luz de Luna\" florece solo durante la noche. Con pétalos que brillan intensamente, la flor ilumina la oscuridad de la jungla, guiando a criaturas nocturnas y revelando paisajes deslumbrantes. Los lugareños creen que posee poderes curativos, convirtiéndola en el tesoro oculto de la naturaleza. Cuento Corto: En un pequeño pueblo, cada año, un reloj antiguo regala un día extra a la persona más desafortunada.\n",
      "\n",
      "Chunk 4: Emma, una joven huérfana, es la elegida este año. Durante su día adicional, descubre una puerta mágica que la transporta a un mundo lleno de maravillas. Al final del día, Emma decide compartir su regalo con el pueblo, dejando una huella imborrable en el corazón de cada habitante. Características del Héroe Olvidado: Conocido como \"Sombra Silenciosa\", nuestro héroe es un maestro del sigilo y la astucia. Dotado de una memoria fotográfica y habilidades\n",
      "\n",
      "Chunk 5: de camuflaje, se desplaza entre las sombras para proteger a los indefensos. Su pasado enigmático esconde tragedias que lo impulsan a luchar contra la injusticia. Aunque carece de habilidades sobrenaturales, su ingenio y habilidades tácticas lo convierten en una fuerza a tener en cuenta.\n",
      "\n"
     ]
    }
   ],
   "source": [
    "def split_into_chunks(text, max_chunk_size):\n",
    "    \"\"\"Divide el texto en chunks del tamaño máximo especificado.\"\"\"\n",
    "    words = text.split()\n",
    "    chunks = []\n",
    "    current_chunk = []\n",
    "\n",
    "    for word in words:\n",
    "        current_chunk.append(word)\n",
    "        if len(\" \".join(current_chunk)) >= max_chunk_size:\n",
    "            chunks.append(\" \".join(current_chunk))\n",
    "            current_chunk = []\n",
    "\n",
    "    if current_chunk:  # Agregar el último chunk si quedó algo\n",
    "        chunks.append(\" \".join(current_chunk))\n",
    "\n",
    "    return chunks\n",
    "\n",
    "# Ejemplo de uso\n",
    "if __name__ == \"__main__\":\n",
    "    chunks = split_into_chunks(content, max_chunk_size=450)\n",
    "    for i, chunk in enumerate(chunks):\n",
    "        print(f\"Chunk {i+1}: {chunk}\\n\")"
   ]
  },
  {
   "cell_type": "code",
   "execution_count": 5,
   "metadata": {},
   "outputs": [
    {
     "name": "stdout",
     "output_type": "stream",
     "text": [
      "Generé 5 embeddings.\n"
     ]
    }
   ],
   "source": [
    "import cohere\n",
    "\n",
    "def generate_embeddings(text_chunks, api_key):\n",
    "    \"\"\"Genera embeddings para una lista de chunks de texto.\"\"\"\n",
    "    co = cohere.Client(api_key)\n",
    "    embeddings = co.embed(\n",
    "        model='embed-english-v2.0',\n",
    "        texts=text_chunks\n",
    "    ).embeddings\n",
    "    return embeddings\n",
    "\n",
    "# Ejemplo de uso\n",
    "if __name__ == \"__main__\":\n",
    "    API_KEY = \"fbdkymnccgS3MtUK38jsJ0mVcU1mrqNOKpUBFMsd\"\n",
    "    embeddings = generate_embeddings(chunks, API_KEY)\n",
    "    print(f\"Generé {len(embeddings)} embeddings.\")"
   ]
  },
  {
   "cell_type": "code",
   "execution_count": null,
   "metadata": {},
   "outputs": [],
   "source": []
  },
  {
   "cell_type": "code",
   "execution_count": 6,
   "metadata": {},
   "outputs": [
    {
     "name": "stdout",
     "output_type": "stream",
     "text": [
      "Se almacenaron 5 documentos en la colección 'documents'.\n",
      "Documentos en la colección: 5\n"
     ]
    }
   ],
   "source": [
    "import chromadb\n",
    "\n",
    "def store_embeddings(chunks, embeddings, collection_name=\"documents\"):\n",
    "    \"\"\"Almacena embeddings en ChromaDB.\"\"\"\n",
    "    try:\n",
    "        client = chromadb.Client()  # Inicializar el cliente ChromaDB\n",
    "        #client.delete_collection(name=collection_name)\n",
    "        collection = client.get_or_create_collection(name=collection_name)\n",
    "        \n",
    "        # Agregar los chunks y sus embeddings a la colección\n",
    "        for i, (chunk, embedding) in enumerate(zip(chunks, embeddings)):\n",
    "            collection.add(\n",
    "                documents=[chunk],\n",
    "                embeddings=[embedding],\n",
    "                ids=[f\"doc-{i}\"]\n",
    "            )\n",
    "\n",
    "        print(f\"Se almacenaron {len(chunks)} documentos en la colección '{collection_name}'.\")\n",
    "        return collection\n",
    "\n",
    "    except Exception as e:\n",
    "        print(f\"Error al almacenar los embeddings: {e}\")\n",
    "        return None\n",
    "\n",
    "# Ejemplo de uso\n",
    "if __name__ == \"__main__\":\n",
    "    collection = store_embeddings(chunks, embeddings)\n",
    "    if collection:\n",
    "        print(f\"Documentos en la colección: {collection.count()}\")"
   ]
  },
  {
   "cell_type": "code",
   "execution_count": 7,
   "metadata": {},
   "outputs": [
    {
     "name": "stdout",
     "output_type": "stream",
     "text": [
      "Resultado 1: la selva amazónica, una flor mágica conocida como \"Luz de Luna\" florece solo durante la noche. Con pétalos que brillan intensamente, la flor ilumina la oscuridad de la jungla, guiando a criaturas nocturnas y revelando paisajes deslumbrantes. Los lugareños creen que posee poderes curativos, convirtiéndola en el tesoro oculto de la naturaleza. Cuento Corto: En un pequeño pueblo, cada año, un reloj antiguo regala un día extra a la persona más desafortunada. (Distancia: 5317.0742)\n",
      "Resultado 2: de camuflaje, se desplaza entre las sombras para proteger a los indefensos. Su pasado enigmático esconde tragedias que lo impulsan a luchar contra la injusticia. Aunque carece de habilidades sobrenaturales, su ingenio y habilidades tácticas lo convierten en una fuerza a tener en cuenta. (Distancia: 7064.1201)\n",
      "Resultado 3: Ficción Espacial: En la lejana galaxia de Zenthoria, dos civilizaciones alienígenas, los Dracorians y los Lumis, se encuentran al borde de la guerra intergaláctica. Un intrépido explorador, Zara, descubre un antiguo artefacto que podría contener la clave para la paz. Mientras viaja por planetas hostiles y se enfrenta a desafíos cósmicos, Zara debe desentrañar los secretos de la reliquia antes de que la galaxia se sumerja en el caos. Ficción Tecnológica: (Distancia: 7210.2227)\n",
      "Documentos más relevantes: ['la selva amazónica, una flor mágica conocida como \"Luz de Luna\" florece solo durante la noche. Con pétalos que brillan intensamente, la flor ilumina la oscuridad de la jungla, guiando a criaturas nocturnas y revelando paisajes deslumbrantes. Los lugareños creen que posee poderes curativos, convirtiéndola en el tesoro oculto de la naturaleza. Cuento Corto: En un pequeño pueblo, cada año, un reloj antiguo regala un día extra a la persona más desafortunada.', 'de camuflaje, se desplaza entre las sombras para proteger a los indefensos. Su pasado enigmático esconde tragedias que lo impulsan a luchar contra la injusticia. Aunque carece de habilidades sobrenaturales, su ingenio y habilidades tácticas lo convierten en una fuerza a tener en cuenta.', 'Ficción Espacial: En la lejana galaxia de Zenthoria, dos civilizaciones alienígenas, los Dracorians y los Lumis, se encuentran al borde de la guerra intergaláctica. Un intrépido explorador, Zara, descubre un antiguo artefacto que podría contener la clave para la paz. Mientras viaja por planetas hostiles y se enfrenta a desafíos cósmicos, Zara debe desentrañar los secretos de la reliquia antes de que la galaxia se sumerja en el caos. Ficción Tecnológica:']\n"
     ]
    }
   ],
   "source": [
    "import cohere\n",
    "import chromadb\n",
    "\n",
    "def search_similar_documents(query: str, collection_name=\"documents\", top_k=3, api_key=\"fbdkymnccgS3MtUK38jsJ0mVcU1mrqNOKpUBFMsd\"):\n",
    "    \"\"\"Busca los documentos más similares a una consulta en ChromaDB.\"\"\"\n",
    "    try:\n",
    "        # Inicializar el cliente ChromaDB\n",
    "        client = chromadb.Client()\n",
    "\n",
    "        # Obtener la colección donde están los embeddings almacenados\n",
    "        collection = client.get_collection(name=collection_name)\n",
    "\n",
    "        # Generar el embedding para la consulta\n",
    "        co = cohere.Client(api_key)\n",
    "        query_embedding = co.embed(\n",
    "            model=\"embed-english-v2.0\",  # Modelo de embeddings de Cohere\n",
    "            texts=[query]\n",
    "        ).embeddings[0]\n",
    "\n",
    "        # Buscar los documentos más similares en la colección\n",
    "        results = collection.query(\n",
    "            query_embeddings=[query_embedding],\n",
    "            n_results=top_k\n",
    "        )\n",
    "        \n",
    "        # Extraer los documentos y sus distancias\n",
    "        documents = results[\"documents\"][0]\n",
    "        distances = results[\"distances\"][0]\n",
    "\n",
    "        # Mostrar los resultados\n",
    "        for i, (doc, distance) in enumerate(zip(documents, distances)):\n",
    "            print(f\"Resultado {i+1}: {doc} (Distancia: {distance:.4f})\")\n",
    "        return documents, distances\n",
    "\n",
    "    except Exception as e:\n",
    "        print(f\"Error al buscar documentos similares: {e}\")\n",
    "        return None, None\n",
    "\n",
    "# Ejemplo de uso\n",
    "if __name__ == \"__main__\":\n",
    "    query = \"¿Qué es la Luz de Luna?\"\n",
    "    documents, distances = search_similar_documents(query, api_key=\"fbdkymnccgS3MtUK38jsJ0mVcU1mrqNOKpUBFMsd\")\n",
    "    print(f\"Documentos más relevantes: {documents}\")"
   ]
  },
  {
   "cell_type": "code",
   "execution_count": 9,
   "metadata": {},
   "outputs": [
    {
     "name": "stdout",
     "output_type": "stream",
     "text": [
      "Resultado 1: la selva amazónica, una flor mágica conocida como \"Luz de Luna\" florece solo durante la noche. Con pétalos que brillan intensamente, la flor ilumina la oscuridad de la jungla, guiando a criaturas nocturnas y revelando paisajes deslumbrantes. Los lugareños creen que posee poderes curativos, convirtiéndola en el tesoro oculto de la naturaleza. Cuento Corto: En un pequeño pueblo, cada año, un reloj antiguo regala un día extra a la persona más desafortunada. (Distancia: 10167.9336)\n",
      "Resultado 2: Emma, una joven huérfana, es la elegida este año. Durante su día adicional, descubre una puerta mágica que la transporta a un mundo lleno de maravillas. Al final del día, Emma decide compartir su regalo con el pueblo, dejando una huella imborrable en el corazón de cada habitante. Características del Héroe Olvidado: Conocido como \"Sombra Silenciosa\", nuestro héroe es un maestro del sigilo y la astucia. Dotado de una memoria fotográfica y habilidades (Distancia: 13048.1895)\n",
      "Resultado 3: Ficción Espacial: En la lejana galaxia de Zenthoria, dos civilizaciones alienígenas, los Dracorians y los Lumis, se encuentran al borde de la guerra intergaláctica. Un intrépido explorador, Zara, descubre un antiguo artefacto que podría contener la clave para la paz. Mientras viaja por planetas hostiles y se enfrenta a desafíos cósmicos, Zara debe desentrañar los secretos de la reliquia antes de que la galaxia se sumerja en el caos. Ficción Tecnológica: (Distancia: 14050.5371)\n",
      "['la selva amazónica, una flor mágica conocida como \"Luz de Luna\" florece solo durante la noche. Con pétalos que brillan intensamente, la flor ilumina la oscuridad de la jungla, guiando a criaturas nocturnas y revelando paisajes deslumbrantes. Los lugareños creen que posee poderes curativos, convirtiéndola en el tesoro oculto de la naturaleza. Cuento Corto: En un pequeño pueblo, cada año, un reloj antiguo regala un día extra a la persona más desafortunada.', 'Emma, una joven huérfana, es la elegida este año. Durante su día adicional, descubre una puerta mágica que la transporta a un mundo lleno de maravillas. Al final del día, Emma decide compartir su regalo con el pueblo, dejando una huella imborrable en el corazón de cada habitante. Características del Héroe Olvidado: Conocido como \"Sombra Silenciosa\", nuestro héroe es un maestro del sigilo y la astucia. Dotado de una memoria fotográfica y habilidades', 'Ficción Espacial: En la lejana galaxia de Zenthoria, dos civilizaciones alienígenas, los Dracorians y los Lumis, se encuentran al borde de la guerra intergaláctica. Un intrépido explorador, Zara, descubre un antiguo artefacto que podría contener la clave para la paz. Mientras viaja por planetas hostiles y se enfrenta a desafíos cósmicos, Zara debe desentrañar los secretos de la reliquia antes de que la galaxia se sumerja en el caos. Ficción Tecnológica:']\n",
      "Respuesta generada: The magical flower that blooms in the Amazon rainforest is named \"Moonlight.\" 🌺\n"
     ]
    }
   ],
   "source": [
    "import cohere\n",
    "import langid\n",
    "from deep_translator import GoogleTranslator\n",
    "\n",
    "def translate_text(text, target_language):\n",
    "    return GoogleTranslator(source='auto', target=target_language).translate(text)\n",
    "\n",
    "def generate_answer(query: str, context: list, api_key=\"fbdkymnccgS3MtUK38jsJ0mVcU1mrqNOKpUBFMsd\"):\n",
    "    \"\"\"Genera una respuesta usando Cohere con los documentos más relevantes como contexto.\"\"\"\n",
    "    try:\n",
    "        # Detectar el idioma de la consulta usando langid\n",
    "        language, _ = langid.classify(query)\n",
    "        \n",
    "        # Mapear el idioma detectado a su nombre\n",
    "        language_map = {\n",
    "            'en': 'english',\n",
    "            'es': 'Español',\n",
    "            'pt': 'portuguese'\n",
    "        }\n",
    "\n",
    "        # Asegurarse de que el idioma esté en el mapa\n",
    "        language_name = language_map.get(language, 'spanish')  # Default to inglés if unknown\n",
    "        #print(f\"Idioma detectado: {language_name}\")\n",
    "\n",
    "        co = cohere.Client(api_key)\n",
    "        print(context)\n",
    "        # Concatenamos el contexto relevante\n",
    "        context_text = \" \".join(context)\n",
    "\n",
    "        # Crear el prompt para Cohere\n",
    "        prompt = f\"Pregunta: {query}\\n\\nContexto: {context_text}\\n\\nGenera una respuesta concisa en una sola oración usando el idioma {language_name}, usa tercera persona, la oración debe tener menos de 50 palabras, solo genera la respuesta y agrega emojis relevantes que resuman la respuesta.\"\n",
    "\n",
    "        if language_name != 'Español':  # Si el idioma de la consulta no es inglés, traducir\n",
    "            prompt = translate_text(prompt, language_name.lower())\n",
    "            #print(f\"prompt traducido al {language_name}: {prompt}\")\n",
    "\n",
    "        # Generar la respuesta con Cohere\n",
    "        response = co.generate(\n",
    "            model=\"command-r-plus-04-2024\",  # Modelo más actual\n",
    "            prompt=prompt,\n",
    "            max_tokens=50,\n",
    "            temperature=0,  # Hacer el modelo más determinista\n",
    "            #top_p=1  # Considerar todas las palabras posibles, sin aleatoriedad\n",
    "        )\n",
    "        \n",
    "        return response.generations[0].text.strip()\n",
    "\n",
    "    except Exception as e:\n",
    "        print(f\"Error al generar la respuesta: {e}\")\n",
    "        return None\n",
    "\n",
    "# Ejemplo de uso\n",
    "if __name__ == \"__main__\":\n",
    "    #query = \"Quien es Zara? \" # Español\n",
    "    #query = \"What did Emma decide to do?\" # Inglés\n",
    "    query = \"What is the name of the magical flower? ?\" # Inglés\n",
    "    #query = \"Quem é Zara?\" # Portugués - Extra\n",
    "    documents, distances = search_similar_documents(query, api_key=\"fbdkymnccgS3MtUK38jsJ0mVcU1mrqNOKpUBFMsd\")\n",
    "\n",
    "    if documents:\n",
    "        answer = generate_answer(query, documents)  \n",
    "        print(f\"Respuesta generada: {answer}\")"
   ]
  },
  {
   "cell_type": "code",
   "execution_count": null,
   "metadata": {},
   "outputs": [],
   "source": []
  },
  {
   "cell_type": "code",
   "execution_count": null,
   "metadata": {},
   "outputs": [],
   "source": []
  }
 ],
 "metadata": {
  "kernelspec": {
   "display_name": "env",
   "language": "python",
   "name": "python3"
  },
  "language_info": {
   "codemirror_mode": {
    "name": "ipython",
    "version": 3
   },
   "file_extension": ".py",
   "mimetype": "text/x-python",
   "name": "python",
   "nbconvert_exporter": "python",
   "pygments_lexer": "ipython3",
   "version": "3.11.4"
  }
 },
 "nbformat": 4,
 "nbformat_minor": 2
}
